{
  "nbformat": 4,
  "nbformat_minor": 0,
  "metadata": {
    "colab": {
      "provenance": []
    },
    "kernelspec": {
      "name": "python3",
      "display_name": "Python 3"
    },
    "language_info": {
      "name": "python"
    }
  },
  "cells": [
    {
      "cell_type": "markdown",
      "source": [
        "#Resolução teste técnico HealthBit\n",
        "\n",
        "Este notebook possui as minhas resoluções das questões técnicas da etapa técnica para a vaga de estágio em Dados da empresa HealthBit.\n"
      ],
      "metadata": {
        "id": "iv-nf4m5e3qi"
      }
    },
    {
      "cell_type": "markdown",
      "source": [
        "##Informações iniciais\n",
        "\n",
        "As células de códigos abaixo servem para subir as bases de dados e as bibliotecas pyhton que serão utilizados durante a resoluçõ dos exercícios.\n",
        "\n",
        "OBS: As bases estão diferentes pois realizei alguns tratamentos simples nas planilhas excel para facilitar a manipulação"
      ],
      "metadata": {
        "id": "7DiOUHglp5aT"
      }
    },
    {
      "cell_type": "code",
      "source": [
        "pip install pandas"
      ],
      "metadata": {
        "colab": {
          "base_uri": "https://localhost:8080/"
        },
        "id": "5KNQ6dYZZkdc",
        "outputId": "30f84e00-aa50-4235-879f-68898b8c8d5b"
      },
      "execution_count": 51,
      "outputs": [
        {
          "output_type": "stream",
          "name": "stdout",
          "text": [
            "Requirement already satisfied: pandas in /usr/local/lib/python3.10/dist-packages (1.5.3)\n",
            "Requirement already satisfied: python-dateutil>=2.8.1 in /usr/local/lib/python3.10/dist-packages (from pandas) (2.8.2)\n",
            "Requirement already satisfied: pytz>=2020.1 in /usr/local/lib/python3.10/dist-packages (from pandas) (2023.3.post1)\n",
            "Requirement already satisfied: numpy>=1.21.0 in /usr/local/lib/python3.10/dist-packages (from pandas) (1.23.5)\n",
            "Requirement already satisfied: six>=1.5 in /usr/local/lib/python3.10/dist-packages (from python-dateutil>=2.8.1->pandas) (1.16.0)\n"
          ]
        }
      ]
    },
    {
      "cell_type": "code",
      "execution_count": 52,
      "metadata": {
        "colab": {
          "base_uri": "https://localhost:8080/"
        },
        "id": "ywspx2CmX7_M",
        "outputId": "7db2c826-f933-4f77-f095-01f4172289aa"
      },
      "outputs": [
        {
          "output_type": "stream",
          "name": "stdout",
          "text": [
            "          PERIODO  CODIGO_EVENTO      FONTE   PLANO TITULARIDADE  \\\n",
            "0      01-01-2020       10101012       REDE  Básico      TITULAR   \n",
            "1      01-01-2020       10101012       REDE  Básico   DEPENDENTE   \n",
            "2      01-01-2020       10101012       REDE  Básico   DEPENDENTE   \n",
            "3      01-01-2020       10101012       REDE  Básico   DEPENDENTE   \n",
            "4      01-01-2020       10101012       REDE  Básico   DEPENDENTE   \n",
            "...           ...            ...        ...     ...          ...   \n",
            "96763  01-12-2020       20104227  REEMBOLSO  Básico   DEPENDENTE   \n",
            "96764  01-12-2020       20104227  REEMBOLSO  Básico   DEPENDENTE   \n",
            "96765  01-12-2020       50000470       REDE  Básico   DEPENDENTE   \n",
            "96766  01-12-2020       20104227  REEMBOLSO  Básico   DEPENDENTE   \n",
            "96767  01-12-2020       20104227  REEMBOLSO  Básico   DEPENDENTE   \n",
            "\n",
            "       CODIGO_DA_FAMILIA  CODIGO_PESSOA   DT_EVENTO  PRESTADOR  VL_EVENTO  \\\n",
            "0                  237.0          558.0  29/10/2019          1      72.49   \n",
            "1                  185.0          382.0  18/11/2019          2     103.00   \n",
            "2                  201.0          427.0  28/10/2019          3     103.00   \n",
            "3                  202.0          428.0  23/10/2019          4     103.00   \n",
            "4                  202.0          429.0  04/11/2019          4     103.00   \n",
            "...                  ...            ...         ...        ...        ...   \n",
            "96763                8.0           17.0  12/11/2020        799      15.00   \n",
            "96764                8.0           17.0  26/11/2020        799      15.00   \n",
            "96765               26.0          136.0  05/10/2020        544     156.00   \n",
            "96766                8.0           17.0  19/11/2020        799      15.00   \n",
            "96767                8.0           17.0  05/11/2020        799      15.00   \n",
            "\n",
            "                                           DECR_EVENTO  INTERNACAO  \n",
            "0                         CONSULTA MEDICA EM CONSULTOR           0  \n",
            "1                         CONSULTA MEDICA EM CONSULTOR           0  \n",
            "2                         CONSULTA MEDICA EM CONSULTOR           0  \n",
            "3                         CONSULTA MEDICA EM CONSULTOR           0  \n",
            "4                         CONSULTA MEDICA EM CONSULTOR           0  \n",
            "...                                                ...         ...  \n",
            "96763                  SESSAO DE PSICOTERAPIA INFANTIL           0  \n",
            "96764                  SESSAO DE PSICOTERAPIA INFANTIL           0  \n",
            "96765  SESSAO DE PSICOTERAPIA INDIVIDUAL POR PSICOLOGO           0  \n",
            "96766                  SESSAO DE PSICOTERAPIA INFANTIL           0  \n",
            "96767                  SESSAO DE PSICOTERAPIA INFANTIL           0  \n",
            "\n",
            "[96768 rows x 12 columns]\n",
            "\n",
            "--------------------------------------------------------------\n",
            "\n",
            "          PERIODO  CODIGO_EVENTO      FONTE   PLANO TITULARIDADE  \\\n",
            "0      01-01-2020       10101012       REDE  Básico      TITULAR   \n",
            "1      01-01-2020       10101012       REDE  Básico   DEPENDENTE   \n",
            "2      01-01-2020       10101012       REDE  Básico   DEPENDENTE   \n",
            "3      01-01-2020       10101012       REDE  Básico   DEPENDENTE   \n",
            "4      01-01-2020       10101012       REDE  Básico   DEPENDENTE   \n",
            "...           ...            ...        ...     ...          ...   \n",
            "96763  01-12-2020       20104227  REEMBOLSO  Básico   DEPENDENTE   \n",
            "96764  01-12-2020       20104227  REEMBOLSO  Básico   DEPENDENTE   \n",
            "96765  01-12-2020       50000470       REDE  Básico   DEPENDENTE   \n",
            "96766  01-12-2020       20104227  REEMBOLSO  Básico   DEPENDENTE   \n",
            "96767  01-12-2020       20104227  REEMBOLSO  Básico   DEPENDENTE   \n",
            "\n",
            "       CODIGO_DA_FAMILIA  CODIGO_PESSOA   DT_EVENTO  PRESTADOR  VL_EVENTO  \\\n",
            "0                  237.0          558.0  29/10/2019          1      72.49   \n",
            "1                  185.0          382.0  18/11/2019          2     103.00   \n",
            "2                  201.0          427.0  28/10/2019          3     103.00   \n",
            "3                  202.0          428.0  23/10/2019          4     103.00   \n",
            "4                  202.0          429.0  04/11/2019          4     103.00   \n",
            "...                  ...            ...         ...        ...        ...   \n",
            "96763                8.0           17.0  12/11/2020        799      15.00   \n",
            "96764                8.0           17.0  26/11/2020        799      15.00   \n",
            "96765               26.0          136.0  05/10/2020        544     156.00   \n",
            "96766                8.0           17.0  19/11/2020        799      15.00   \n",
            "96767                8.0           17.0  05/11/2020        799      15.00   \n",
            "\n",
            "                                           DECR_EVENTO  INTERNACAO  \n",
            "0                         CONSULTA MEDICA EM CONSULTOR           0  \n",
            "1                         CONSULTA MEDICA EM CONSULTOR           0  \n",
            "2                         CONSULTA MEDICA EM CONSULTOR           0  \n",
            "3                         CONSULTA MEDICA EM CONSULTOR           0  \n",
            "4                         CONSULTA MEDICA EM CONSULTOR           0  \n",
            "...                                                ...         ...  \n",
            "96763                  SESSAO DE PSICOTERAPIA INFANTIL           0  \n",
            "96764                  SESSAO DE PSICOTERAPIA INFANTIL           0  \n",
            "96765  SESSAO DE PSICOTERAPIA INDIVIDUAL POR PSICOLOGO           0  \n",
            "96766                  SESSAO DE PSICOTERAPIA INFANTIL           0  \n",
            "96767                  SESSAO DE PSICOTERAPIA INFANTIL           0  \n",
            "\n",
            "[96768 rows x 12 columns]\n"
          ]
        }
      ],
      "source": [
        "import pandas as pd\n",
        "import matplotlib.pyplot as plt\n",
        "\n",
        "# Carregando o arquivo Excel\n",
        "sinistros_excel = '/Sinistros_base (2).xlsx'\n",
        "cadastros_excel = '/Cadastro_base (2).xlsx'\n",
        "\n",
        "# Carregar o arquivo Excel em um DataFrame\n",
        "df_sinistros = pd.read_excel(sinistros_excel)\n",
        "df_cadastros = pd.read_excel(sinistros_excel)\n",
        "\n",
        "print(df_sinistros)\n",
        "print(\"\\n--------------------------------------------------------------\\n\")\n",
        "print(df_cadastros)"
      ]
    },
    {
      "cell_type": "markdown",
      "source": [
        "## Resolução do exercício 1:\n",
        "\n",
        "Questão: Sinistro do maior utilizador (High User), ou seja, qual beneficiário teve gastos mais elevados no período e qual foi o custo?"
      ],
      "metadata": {
        "id": "B8o1Dt7NbhNW"
      }
    },
    {
      "cell_type": "code",
      "source": [
        "# Agrupando as pessoas e realizando a soma dos custos delas\n",
        "custo_por_pessoa = df_sinistros.groupby('CODIGO_PESSOA')['VL_EVENTO'].sum()\n",
        "\n",
        "# Identificando qual pessoa tem o maior custo\n",
        "id_pessoa_maior_gasto = custo_por_pessoa.idxmax()\n",
        "\n",
        "# Identificando maior custo\n",
        "custo_mais_elevados = custo_por_pessoa.max()\n",
        "\n",
        "print('A pessoa que teve mais gastos tem o ID: ', id_pessoa_maior_gasto, ' e o custo foi de R$:', custo_mais_elevados)"
      ],
      "metadata": {
        "colab": {
          "base_uri": "https://localhost:8080/"
        },
        "id": "k9U0yiNyaOnK",
        "outputId": "bc7c55ff-5341-4b2f-9bfd-d00c779b0441"
      },
      "execution_count": 53,
      "outputs": [
        {
          "output_type": "stream",
          "name": "stdout",
          "text": [
            "A pessoa que teve mais gastos tem o ID:  230.0  e o custo foi de R$: 4896929.45\n"
          ]
        }
      ]
    },
    {
      "cell_type": "markdown",
      "source": [
        "## Resolução do exercício 2:\n",
        "\n",
        "Questão: Apresente o custo de sinistro total (valor absoluto e %) e o custo de sinistro per capita (considerando número total de pessoas cadastradas) do período por plano."
      ],
      "metadata": {
        "id": "7RkxHUsbdcxp"
      }
    },
    {
      "cell_type": "code",
      "source": [
        "# Pegando o custo total por periodo e plano\n",
        "custo_total = df_sinistros.groupby(['PERIODO', 'PLANO'])['VL_EVENTO'].sum().reset_index()\n",
        "\n",
        "print(\"Custo total por periodo e plano:\")\n",
        "print(custo_total)\n",
        "\n",
        "# Pegando a quantidade total de pessoas por periodo e plano\n",
        "pessoas_total = df_sinistros.groupby(['PERIODO', 'PLANO'])['CODIGO_PESSOA'].nunique().reset_index()\n",
        "\n",
        "# anexando dados de pessoas ao de valores\n",
        "dados_sinistro_pessoas = pd.merge(custo_total, pessoas_total, on=['PERIODO', 'PLANO'], how='left')\n",
        "\n",
        "# Pegando o custo de sinistro per capita\n",
        "dados_sinistro_pessoas['CUSTO_PER_CAPITA'] = dados_sinistro_pessoas['VL_EVENTO'] / dados_sinistro_pessoas['CODIGO_PESSOA']\n",
        "\n",
        "print(\"Custo per capita:\")\n",
        "print(dados_sinistro_pessoas)\n",
        "\n",
        "# Calcular o custo de sinistro total em % (em relação ao total geral)\n",
        "total_geral = dados_sinistro_pessoas['VL_EVENTO'].sum()\n",
        "dados_sinistro_pessoas['Custo_PORCENTAGEM'] = (dados_sinistro_pessoas['VL_EVENTO'] / total_geral) * 100\n",
        "\n",
        "print(\"Custo total em relação ao total geral em %\")\n",
        "print(dados_sinistro_pessoas)"
      ],
      "metadata": {
        "colab": {
          "base_uri": "https://localhost:8080/"
        },
        "id": "uRFQyjl1dsMN",
        "outputId": "cf6eb435-c604-4d50-e0dd-0ad44ac639b9"
      },
      "execution_count": 54,
      "outputs": [
        {
          "output_type": "stream",
          "name": "stdout",
          "text": [
            "Custo total por periodo e plano:\n",
            "       PERIODO     PLANO  VL_EVENTO\n",
            "0   01-01-2020    Básico  316949.06\n",
            "1   01-01-2020     Médio   43316.42\n",
            "2   01-01-2020  Superior   31697.24\n",
            "3   01-01-2021    Básico  447827.83\n",
            "4   01-01-2021     Médio  139313.27\n",
            "..         ...       ...        ...\n",
            "67  01-12-2019     Médio   85844.84\n",
            "68  01-12-2019  Superior   36673.82\n",
            "69  01-12-2020    Básico  639330.81\n",
            "70  01-12-2020     Médio  105299.88\n",
            "71  01-12-2020  Superior   51967.12\n",
            "\n",
            "[72 rows x 3 columns]\n",
            "Custo per capita:\n",
            "       PERIODO     PLANO  VL_EVENTO  CODIGO_PESSOA  CUSTO_PER_CAPITA\n",
            "0   01-01-2020    Básico  316949.06            393        806.486158\n",
            "1   01-01-2020     Médio   43316.42            101        428.875446\n",
            "2   01-01-2020  Superior   31697.24             31       1022.491613\n",
            "3   01-01-2021    Básico  447827.83            342       1309.438099\n",
            "4   01-01-2021     Médio  139313.27            135       1031.950148\n",
            "..         ...       ...        ...            ...               ...\n",
            "67  01-12-2019     Médio   85844.84             93        923.062796\n",
            "68  01-12-2019  Superior   36673.82             33       1111.327879\n",
            "69  01-12-2020    Básico  639330.81            321       1991.684766\n",
            "70  01-12-2020     Médio  105299.88            101       1042.573069\n",
            "71  01-12-2020  Superior   51967.12             33       1574.761212\n",
            "\n",
            "[72 rows x 5 columns]\n",
            "Custo total em relação ao total geral em %\n",
            "       PERIODO     PLANO  VL_EVENTO  CODIGO_PESSOA  CUSTO_PER_CAPITA  \\\n",
            "0   01-01-2020    Básico  316949.06            393        806.486158   \n",
            "1   01-01-2020     Médio   43316.42            101        428.875446   \n",
            "2   01-01-2020  Superior   31697.24             31       1022.491613   \n",
            "3   01-01-2021    Básico  447827.83            342       1309.438099   \n",
            "4   01-01-2021     Médio  139313.27            135       1031.950148   \n",
            "..         ...       ...        ...            ...               ...   \n",
            "67  01-12-2019     Médio   85844.84             93        923.062796   \n",
            "68  01-12-2019  Superior   36673.82             33       1111.327879   \n",
            "69  01-12-2020    Básico  639330.81            321       1991.684766   \n",
            "70  01-12-2020     Médio  105299.88            101       1042.573069   \n",
            "71  01-12-2020  Superior   51967.12             33       1574.761212   \n",
            "\n",
            "    Custo_PORCENTAGEM  \n",
            "0            1.752951  \n",
            "1            0.239570  \n",
            "2            0.175308  \n",
            "3            2.476803  \n",
            "4            0.770500  \n",
            "..                ...  \n",
            "67           0.474782  \n",
            "68           0.202832  \n",
            "69           3.535949  \n",
            "70           0.582382  \n",
            "71           0.287415  \n",
            "\n",
            "[72 rows x 6 columns]\n"
          ]
        }
      ]
    },
    {
      "cell_type": "markdown",
      "source": [
        "## Resolução do exercício 3:\n",
        "\n",
        "Questão: Qual o custo de sinistro (R$)  por mês/ano por data de referência?"
      ],
      "metadata": {
        "id": "Cb52xVkni8WF"
      }
    },
    {
      "cell_type": "code",
      "source": [
        "# Fazendo o casting de 'DT_EVENTO' para datetime\n",
        "df_sinistros['DT_EVENTO'] = pd.to_datetime(df_sinistros['DT_EVENTO'])\n",
        "\n",
        "# Pegando o mes da data de referencia\n",
        "df_sinistros['MES_ANO'] = df_sinistros['DT_EVENTO'].dt.to_period('M')\n",
        "df_sinistros['DT_REFERENCIA'] = df_sinistros['DT_EVENTO'].dt.date\n",
        "\n",
        "# Calcular o custo de sinistro por mês/ano e data de referência\n",
        "custo_por_mes_ano = df_sinistros.groupby(['MES_ANO', 'DT_REFERENCIA'])['VL_EVENTO'].sum().reset_index()\n",
        "\n",
        "print(\"A tabela abaixo mostra os dados:\")\n",
        "print(custo_por_mes_ano)\n"
      ],
      "metadata": {
        "colab": {
          "base_uri": "https://localhost:8080/"
        },
        "id": "u_4YbG-hjZSr",
        "outputId": "83e1d988-1125-4a17-9d85-4d49434b23a0"
      },
      "execution_count": 55,
      "outputs": [
        {
          "output_type": "stream",
          "name": "stdout",
          "text": [
            "A tabela abaixo mostra os dados:\n",
            "      MES_ANO DT_REFERENCIA  VL_EVENTO\n",
            "0     2001-01    2001-01-01       0.00\n",
            "1     2016-02    2016-02-12    1111.92\n",
            "2     2016-07    2016-07-12       4.81\n",
            "3     2016-08    2016-08-11       3.46\n",
            "4     2016-08    2016-08-12       0.07\n",
            "...       ...           ...        ...\n",
            "1417  2021-11    2021-11-03    7140.55\n",
            "1418  2021-12    2021-12-01   12327.08\n",
            "1419  2021-12    2021-12-02   11793.60\n",
            "1420  2021-12    2021-12-03    5029.41\n",
            "1421  2021-12    2021-12-04     381.55\n",
            "\n",
            "[1422 rows x 3 columns]\n"
          ]
        },
        {
          "output_type": "stream",
          "name": "stderr",
          "text": [
            "<ipython-input-55-7ad9a4636939>:2: UserWarning: Parsing dates in DD/MM/YYYY format when dayfirst=False (the default) was specified. This may lead to inconsistently parsed dates! Specify a format to ensure consistent parsing.\n",
            "  df_sinistros['DT_EVENTO'] = pd.to_datetime(df_sinistros['DT_EVENTO'])\n"
          ]
        }
      ]
    },
    {
      "cell_type": "markdown",
      "source": [
        "## Resolução do exercício 4:\n",
        "\n",
        "Questão: Qual plano traz mais preocupações em termos de custo? Por qual motivo?"
      ],
      "metadata": {
        "id": "QP1UJw2okZKB"
      }
    },
    {
      "cell_type": "code",
      "source": [
        "# Calcular o custo total de sinistro por plano\n",
        "custo_plano = df_sinistros.groupby('PLANO')['VL_EVENTO'].sum()\n",
        "\n",
        "print(\"Custo de sinistro por plano:\")\n",
        "print(custo_plano)\n",
        "print()\n",
        "\n",
        "# Grafico simples para ilustrar\n",
        "custo_plano.plot(kind='bar')\n",
        "plt.xlabel('Plano')\n",
        "plt.ylabel('Custo total de sinistro')\n",
        "plt.title('Custo total de sinistro por plano')\n",
        "plt.show()"
      ],
      "metadata": {
        "colab": {
          "base_uri": "https://localhost:8080/",
          "height": 638
        },
        "id": "UhjeAhZ6kvBy",
        "outputId": "bd5713dc-8cc4-45bb-9b9a-714e4b3a12c1"
      },
      "execution_count": 56,
      "outputs": [
        {
          "output_type": "stream",
          "name": "stdout",
          "text": [
            "Custo de sinistro por plano:\n",
            "PLANO\n",
            "Básico      14517942.03\n",
            "Médio        2499837.38\n",
            "Superior     1063105.96\n",
            "Name: VL_EVENTO, dtype: float64\n",
            "\n"
          ]
        },
        {
          "output_type": "display_data",
          "data": {
            "text/plain": [
              "<Figure size 640x480 with 1 Axes>"
            ],
            "image/png": "[encoded data removed]"
          },
          "metadata": {}
        }
      ]
    },
    {
      "cell_type": "markdown",
      "source": [
        "## Resolução do exercício 5:\n",
        "\n",
        "Questão: Identificou algum problema na base que pode prejudicar a análise de dados? Qual(is) seriam?\n",
        "\n",
        "Antes de iniciar a resolução das questões propostas, eu decide olhar um pouco das bases de dados e acabei realizando os seguintes tratamentos, no Excel, para melhorar a forma de lidar com os dados dentro do código:\n",
        "* Em ambas as bases fiz a mudança dos nomes dos atributos/colunas visando remover os acentos/espaços entre os nomes e encurtá-los.\n",
        "* Fiz o processo de remoção dos dados duplicados em ambas as bases.\n",
        "* Mudei os valores da coluna de INTERNAÇÃO da base de sinistros para 0 e 1 (valores booleanos) no lugar de sim ou não.\n",
        "\n",
        "Procedimentos de tratamento/normalização dos dados são importantes, pois evitam que as análises feitas em cima da base sejam inconsistentes.\n",
        "Um exemplo de erro que poderia acontecer nestas bases seria o cálculo errado dos valores de custo que precisaram ser feitos em quase todos os exercícios. Se esses cálculos forem feitos com dados suplicados, os valores serão maiores do que deveriam ser, e a análise estaria errada.\n",
        "\n",
        "\n"
      ],
      "metadata": {
        "id": "XLzqCLw7peJl"
      }
    }
  ]
}